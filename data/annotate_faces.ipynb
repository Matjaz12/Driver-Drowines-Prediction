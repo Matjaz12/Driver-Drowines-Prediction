{
 "cells": [
  {
   "cell_type": "markdown",
   "id": "342c7dc6",
   "metadata": {
    "papermill": {
     "duration": 0.002368,
     "end_time": "2023-05-05T20:28:55.437087",
     "exception": false,
     "start_time": "2023-05-05T20:28:55.434719",
     "status": "completed"
    },
    "tags": []
   },
   "source": [
    "# Detect driver's face and facial landmarks"
   ]
  },
  {
   "cell_type": "code",
   "execution_count": 1,
   "id": "ad1018c5",
   "metadata": {
    "_cell_guid": "b1076dfc-b9ad-4769-8c92-a6c4dae69d19",
    "_uuid": "8f2839f25d086af736a60e9eeb907d3b93b6e0e5",
    "execution": {
     "iopub.execute_input": "2023-05-05T20:28:55.444281Z",
     "iopub.status.busy": "2023-05-05T20:28:55.443710Z",
     "iopub.status.idle": "2023-05-05T20:28:55.471218Z",
     "shell.execute_reply": "2023-05-05T20:28:55.470017Z"
    },
    "papermill": {
     "duration": 0.032755,
     "end_time": "2023-05-05T20:28:55.473529",
     "exception": false,
     "start_time": "2023-05-05T20:28:55.440774",
     "status": "completed"
    },
    "tags": []
   },
   "outputs": [
    {
     "name": "stdout",
     "output_type": "stream",
     "text": [
      "/kaggle/input/driver-videos/videos/P1043117_720.mp4\n",
      "/kaggle/input/driver-videos/videos/P1043134_720.mp4\n",
      "/kaggle/input/driver-videos/videos/P1043131_720.mp4\n",
      "/kaggle/input/driver-videos/videos/P1043114_720.mp4\n",
      "/kaggle/input/driver-videos/videos/P1043075_720.mp4\n",
      "/kaggle/input/driver-videos/videos/P1043124_720.mp4\n",
      "/kaggle/input/driver-videos/videos/P1043119_720.mp4\n",
      "/kaggle/input/driver-videos/videos/P1043129_720.mp4\n",
      "/kaggle/input/driver-videos/videos/P1043132_720.mp4\n",
      "/kaggle/input/driver-videos/videos/P1043133_720.mp4\n",
      "/kaggle/input/driver-videos/videos/P1042786_720.mp4\n",
      "/kaggle/input/driver-videos/videos/P1042793_720.mp4\n",
      "/kaggle/input/driver-videos/videos/P1042797_720.mp4\n",
      "/kaggle/input/driver-videos/videos/P1042772_720.mp4\n",
      "/kaggle/input/driver-videos/videos/P1043080_720.mp4\n",
      "/kaggle/input/driver-videos/videos/P1043078_720.mp4\n",
      "/kaggle/input/driver-videos/videos/P1043123_720.mp4\n",
      "/kaggle/input/driver-videos/videos/P1042751_720.mp4\n",
      "/kaggle/input/driver-videos/videos/P1043068_720.mp4\n",
      "/kaggle/input/driver-videos/videos/P1043127_720.mp4\n",
      "/kaggle/input/driver-videos/videos/P1043120_720.mp4\n",
      "/kaggle/input/driver-videos/videos/P1043106_720.mp4\n",
      "/kaggle/input/driver-videos/videos/P1043089_720.mp4\n",
      "/kaggle/input/driver-videos/videos/P1043128_720.mp4\n",
      "/kaggle/input/driver-videos/videos/P1043067_720.mp4\n",
      "/kaggle/input/driver-videos/videos/P1043076_720.mp4\n",
      "/kaggle/input/driver-videos/videos/P1043079_720.mp4\n",
      "/kaggle/input/driver-videos/videos/P1043081_720.mp4\n",
      "/kaggle/input/driver-videos/videos/P1043126_720.mp4\n",
      "/kaggle/input/driver-videos/videos/P1043118_720.mp4\n",
      "/kaggle/input/driver-videos/videos/P1042762_720.mp4\n",
      "/kaggle/input/driver-videos/videos/P1043116_720.mp4\n",
      "/kaggle/input/driver-videos/videos/P1043130_720.mp4\n",
      "/kaggle/input/driver-videos/videos/P1043125_720.mp4\n",
      "/kaggle/input/driver-videos/videos/P1043115_720.mp4\n",
      "/kaggle/input/driver-videos/videos/P1042757_720.mp4\n",
      "/kaggle/input/driver-videos/videos/P1042787_720.mp4\n",
      "/kaggle/input/driver-videos/videos/P1043122_720.mp4\n",
      "/kaggle/input/driver-videos/videos/P1043121_720.mp4\n",
      "/kaggle/input/driver-videos/videos/P1043135_720.mp4\n",
      "/kaggle/input/driver-videos/videos/P1042767_720.mp4\n",
      "/kaggle/input/driver-videos/videos/P1042756_720.mp4\n"
     ]
    }
   ],
   "source": [
    "# Input data files are available in the read-only \"../input/\" directory\n",
    "# For example, running this (by clicking run or pressing Shift+Enter) will list all files under the input directory\n",
    "\n",
    "import os\n",
    "for dirname, _, filenames in os.walk('/kaggle/input'):\n",
    "    for filename in filenames:\n",
    "        print(os.path.join(dirname, filename))\n",
    "\n",
    "# You can write up to 20GB to the current directory (/kaggle/working/) that gets preserved as output when you create a version using \"Save & Run All\" \n",
    "# You can also write temporary files to /kaggle/temp/, but they won't be saved outside of the current session"
   ]
  },
  {
   "cell_type": "code",
   "execution_count": 2,
   "id": "c3112aaa",
   "metadata": {
    "execution": {
     "iopub.execute_input": "2023-05-05T20:28:55.478932Z",
     "iopub.status.busy": "2023-05-05T20:28:55.478234Z",
     "iopub.status.idle": "2023-05-05T20:29:12.206151Z",
     "shell.execute_reply": "2023-05-05T20:29:12.204891Z"
    },
    "papermill": {
     "duration": 16.732799,
     "end_time": "2023-05-05T20:29:12.208357",
     "exception": false,
     "start_time": "2023-05-05T20:28:55.475558",
     "status": "completed"
    },
    "tags": []
   },
   "outputs": [
    {
     "name": "stdout",
     "output_type": "stream",
     "text": [
      "\u001b[33mWARNING: Running pip as the 'root' user can result in broken permissions and conflicting behaviour with the system package manager. It is recommended to use a virtual environment instead: https://pip.pypa.io/warnings/venv\u001b[0m\u001b[33m\r\n",
      "\u001b[0m"
     ]
    }
   ],
   "source": [
    "!pip install  retinaface_pytorch > /dev/null\n",
    "!mkdir frames"
   ]
  },
  {
   "cell_type": "code",
   "execution_count": 3,
   "id": "f2bf96b2",
   "metadata": {
    "execution": {
     "iopub.execute_input": "2023-05-05T20:29:12.215034Z",
     "iopub.status.busy": "2023-05-05T20:29:12.214204Z",
     "iopub.status.idle": "2023-05-05T20:29:17.787405Z",
     "shell.execute_reply": "2023-05-05T20:29:17.786508Z"
    },
    "papermill": {
     "duration": 5.579083,
     "end_time": "2023-05-05T20:29:17.789919",
     "exception": false,
     "start_time": "2023-05-05T20:29:12.210836",
     "status": "completed"
    },
    "tags": []
   },
   "outputs": [
    {
     "name": "stderr",
     "output_type": "stream",
     "text": [
      "/opt/conda/lib/python3.10/site-packages/scipy/__init__.py:146: UserWarning: A NumPy version >=1.16.5 and <1.23.0 is required for this version of SciPy (detected version 1.23.5\n",
      "  warnings.warn(f\"A NumPy version >={np_minversion} and <{np_maxversion}\"\n"
     ]
    }
   ],
   "source": [
    "import os\n",
    "import json\n",
    "from tqdm import tqdm\n",
    "import cv2\n",
    "import numpy as np\n",
    "from matplotlib import pyplot as plt\n",
    "from retinaface.pre_trained_models import get_model\n",
    "from retinaface.utils import vis_annotations"
   ]
  },
  {
   "cell_type": "code",
   "execution_count": 4,
   "id": "3bdf3382",
   "metadata": {
    "execution": {
     "iopub.execute_input": "2023-05-05T20:29:17.796199Z",
     "iopub.status.busy": "2023-05-05T20:29:17.795457Z",
     "iopub.status.idle": "2023-05-05T20:47:04.236792Z",
     "shell.execute_reply": "2023-05-05T20:47:04.230000Z"
    },
    "papermill": {
     "duration": 1066.446458,
     "end_time": "2023-05-05T20:47:04.238797",
     "exception": false,
     "start_time": "2023-05-05T20:29:17.792339",
     "status": "completed"
    },
    "tags": []
   },
   "outputs": [
    {
     "name": "stdout",
     "output_type": "stream",
     "text": [
      "Extracting frames, video: P1043117_720.mp4\n",
      "Frames extracted: 480\n",
      "Extracting frames, video: P1043134_720.mp4\n",
      "Frames extracted: 635\n",
      "Extracting frames, video: P1043131_720.mp4\n",
      "Frames extracted: 670\n",
      "Extracting frames, video: P1043114_720.mp4\n",
      "Frames extracted: 350\n",
      "Extracting frames, video: P1043075_720.mp4\n",
      "Frames extracted: 3285\n",
      "Extracting frames, video: P1043124_720.mp4\n",
      "Frames extracted: 610\n",
      "Extracting frames, video: P1043119_720.mp4\n",
      "Frames extracted: 480\n",
      "Extracting frames, video: P1043129_720.mp4\n",
      "Frames extracted: 3095\n",
      "Extracting frames, video: P1043132_720.mp4\n",
      "Frames extracted: 705\n",
      "Extracting frames, video: P1043133_720.mp4\n",
      "Frames extracted: 705\n",
      "Extracting frames, video: P1042786_720.mp4\n",
      "Frames extracted: 3275\n",
      "Extracting frames, video: P1042793_720.mp4\n",
      "Frames extracted: 3145\n",
      "Extracting frames, video: P1042797_720.mp4\n",
      "Frames extracted: 3145\n",
      "Extracting frames, video: P1042772_720.mp4\n",
      "Frames extracted: 3105\n",
      "Extracting frames, video: P1043080_720.mp4\n",
      "Frames extracted: 550\n",
      "Extracting frames, video: P1043078_720.mp4\n",
      "Frames extracted: 588\n",
      "Extracting frames, video: P1043123_720.mp4\n",
      "Frames extracted: 630\n",
      "Extracting frames, video: P1042751_720.mp4\n",
      "Frames extracted: 3215\n",
      "Extracting frames, video: P1043068_720.mp4\n",
      "Frames extracted: 3665\n",
      "Extracting frames, video: P1043127_720.mp4\n",
      "Frames extracted: 470\n",
      "Extracting frames, video: P1043120_720.mp4\n",
      "Frames extracted: 418\n",
      "Extracting frames, video: P1043106_720.mp4\n",
      "Frames extracted: 3100\n",
      "Extracting frames, video: P1043089_720.mp4\n",
      "Frames extracted: 3120\n",
      "Extracting frames, video: P1043128_720.mp4\n",
      "Frames extracted: 490\n",
      "Extracting frames, video: P1043067_720.mp4\n",
      "Frames extracted: 3285\n",
      "Extracting frames, video: P1043076_720.mp4\n",
      "Frames extracted: 740\n",
      "Extracting frames, video: P1043079_720.mp4\n",
      "Frames extracted: 588\n",
      "Extracting frames, video: P1043081_720.mp4\n",
      "Frames extracted: 600\n",
      "Extracting frames, video: P1043126_720.mp4\n",
      "Frames extracted: 547\n",
      "Extracting frames, video: P1043118_720.mp4\n",
      "Frames extracted: 537\n",
      "Extracting frames, video: P1042762_720.mp4\n",
      "Frames extracted: 3095\n",
      "Extracting frames, video: P1043116_720.mp4\n",
      "Frames extracted: 525\n",
      "Extracting frames, video: P1043130_720.mp4\n",
      "Frames extracted: 370\n",
      "Extracting frames, video: P1043125_720.mp4\n",
      "Frames extracted: 473\n",
      "Extracting frames, video: P1043115_720.mp4\n",
      "Frames extracted: 3055\n",
      "Extracting frames, video: P1042757_720.mp4\n",
      "Frames extracted: 3650\n",
      "Extracting frames, video: P1042787_720.mp4\n",
      "Frames extracted: 3288\n",
      "Extracting frames, video: P1043122_720.mp4\n",
      "Frames extracted: 3125\n",
      "Extracting frames, video: P1043121_720.mp4\n",
      "Frames extracted: 595\n",
      "Extracting frames, video: P1043135_720.mp4\n",
      "Frames extracted: 680\n",
      "Extracting frames, video: P1042767_720.mp4\n",
      "Frames extracted: 3230\n",
      "Extracting frames, video: P1042756_720.mp4\n",
      "Frames extracted: 3100\n"
     ]
    }
   ],
   "source": [
    "# Extract frames from all videos in current directory\n",
    "dir = \"/kaggle/input/driver-videos/videos/\"\n",
    "for file in os.listdir(dir):\n",
    "    if \"mp4\" in file:\n",
    "        print(f\"Extracting frames, video: {file}\")\n",
    "        if not os.path.exists(f\"./frames/{file.split('.')[-2]}\"):\n",
    "            os.mkdir(f\"./frames/{file.split('.')[-2]}\")\n",
    "\n",
    "        count = 0\n",
    "        vidcap = cv2.VideoCapture(os.path.join(dir, file))\n",
    "        success, img = vidcap.read()\n",
    "        while success:\n",
    "            cv2.imwrite(f\"./frames/{file.split('.')[-2]}/frame{count}.jpg\", img)\n",
    "            success, img = vidcap.read()\n",
    "            count += 1\n",
    "            \n",
    "        print(f\"Frames extracted: {count}\")"
   ]
  },
  {
   "cell_type": "code",
   "execution_count": 5,
   "id": "493ee2b4",
   "metadata": {
    "execution": {
     "iopub.execute_input": "2023-05-05T20:47:04.249921Z",
     "iopub.status.busy": "2023-05-05T20:47:04.249644Z",
     "iopub.status.idle": "2023-05-05T20:47:04.258077Z",
     "shell.execute_reply": "2023-05-05T20:47:04.257159Z"
    },
    "papermill": {
     "duration": 0.015579,
     "end_time": "2023-05-05T20:47:04.259810",
     "exception": false,
     "start_time": "2023-05-05T20:47:04.244231",
     "status": "completed"
    },
    "tags": []
   },
   "outputs": [],
   "source": [
    "def max_bbox(preds):\n",
    "    \"\"\"Return idx of face with max area of bbox.\"\"\"\n",
    "\n",
    "    def compute_area(bbox):\n",
    "        return (bbox[2] - bbox[0]) * (bbox[3] - bbox[1])\n",
    "\n",
    "    return np.argmax([compute_area(pred[\"bbox\"]) for pred in preds])\n",
    "\n",
    "\n",
    "def annotate_sequence(seq_dir, model):\n",
    "    \"\"\"Iterate over frames in video sequence and annotate bbox \n",
    "    and facial landmarks of the driver.\"\"\"\n",
    "\n",
    "    annotations = {}\n",
    "    for frame in tqdm(os.listdir(seq_dir)):\n",
    "        if \".jpg\" in frame:\n",
    "            img = cv2.imread(os.path.join(seq_dir, frame))\n",
    "            img = cv2.cvtColor(img, cv2.COLOR_BGR2RGB)\n",
    "\n",
    "            pred = model.predict_jsons(img)\n",
    "            pred = ([p for p in pred if p[\"score\"] != -1])\n",
    "\n",
    "            if len(pred) == 0:\n",
    "                continue\n",
    "\n",
    "            max_bbox_idx = max_bbox(pred)\n",
    "            pred = pred[max_bbox_idx]\n",
    "\n",
    "            # plt.imshow(vis_annotations(img, [pred]))\n",
    "            # plt.show()\n",
    "            \n",
    "            annotations[frame] = {}\n",
    "            annotations[frame][\"bbox\"] = pred[\"bbox\"]\n",
    "            annotations[frame][\"landmarks\"] = pred[\"landmarks\"]\n",
    "\n",
    "    return annotations"
   ]
  },
  {
   "cell_type": "code",
   "execution_count": 6,
   "id": "e177b6d4",
   "metadata": {
    "execution": {
     "iopub.execute_input": "2023-05-05T20:47:04.269604Z",
     "iopub.status.busy": "2023-05-05T20:47:04.268892Z",
     "iopub.status.idle": "2023-05-06T00:53:50.636175Z",
     "shell.execute_reply": "2023-05-06T00:53:50.633767Z"
    },
    "papermill": {
     "duration": 14806.374081,
     "end_time": "2023-05-06T00:53:50.638058",
     "exception": false,
     "start_time": "2023-05-05T20:47:04.263977",
     "status": "completed"
    },
    "tags": []
   },
   "outputs": [
    {
     "name": "stderr",
     "output_type": "stream",
     "text": [
      "/opt/conda/lib/python3.10/site-packages/torchvision/models/_utils.py:208: UserWarning: The parameter 'pretrained' is deprecated since 0.13 and may be removed in the future, please use 'weights' instead.\n",
      "  warnings.warn(\n",
      "/opt/conda/lib/python3.10/site-packages/torchvision/models/_utils.py:223: UserWarning: Arguments other than a weight enum or `None` for 'weights' are deprecated since 0.13 and may be removed in the future. The current behavior is equivalent to passing `weights=None`.\n",
      "  warnings.warn(msg)\n",
      "Downloading: \"https://github.com/ternaus/retinaface/releases/download/0.01/retinaface_resnet50_2020-07-20-f168fae3c.zip\" to /root/.cache/torch/hub/checkpoints/retinaface_resnet50_2020-07-20-f168fae3c.zip\n",
      "100%|██████████| 96.9M/96.9M [00:01<00:00, 63.1MB/s]\n",
      "/opt/conda/lib/python3.10/site-packages/torch/hub.py:665: UserWarning: Falling back to the old format < 1.6. This support will be deprecated in favor of default zipfile format introduced in 1.6. Please redo torch.save() to save it in the new zipfile format.\n",
      "  warnings.warn('Falling back to the old format < 1.6. This support will be '\n"
     ]
    },
    {
     "name": "stdout",
     "output_type": "stream",
     "text": [
      "Annotating seq: P1043106_720\n"
     ]
    },
    {
     "name": "stderr",
     "output_type": "stream",
     "text": [
      "100%|██████████| 3100/3100 [10:36<00:00,  4.87it/s]\n"
     ]
    },
    {
     "name": "stdout",
     "output_type": "stream",
     "text": [
      "Annotating seq: P1043078_720\n"
     ]
    },
    {
     "name": "stderr",
     "output_type": "stream",
     "text": [
      "100%|██████████| 588/588 [02:01<00:00,  4.85it/s]\n"
     ]
    },
    {
     "name": "stdout",
     "output_type": "stream",
     "text": [
      "Annotating seq: P1043119_720\n"
     ]
    },
    {
     "name": "stderr",
     "output_type": "stream",
     "text": [
      "100%|██████████| 480/480 [01:38<00:00,  4.86it/s]\n"
     ]
    },
    {
     "name": "stdout",
     "output_type": "stream",
     "text": [
      "Annotating seq: P1043128_720\n"
     ]
    },
    {
     "name": "stderr",
     "output_type": "stream",
     "text": [
      "100%|██████████| 490/490 [01:40<00:00,  4.89it/s]\n"
     ]
    },
    {
     "name": "stdout",
     "output_type": "stream",
     "text": [
      "Annotating seq: P1043075_720\n"
     ]
    },
    {
     "name": "stderr",
     "output_type": "stream",
     "text": [
      "100%|██████████| 3285/3285 [11:15<00:00,  4.87it/s]\n"
     ]
    },
    {
     "name": "stdout",
     "output_type": "stream",
     "text": [
      "Annotating seq: P1043076_720\n"
     ]
    },
    {
     "name": "stderr",
     "output_type": "stream",
     "text": [
      "100%|██████████| 740/740 [02:32<00:00,  4.86it/s]\n"
     ]
    },
    {
     "name": "stdout",
     "output_type": "stream",
     "text": [
      "Annotating seq: P1043118_720\n"
     ]
    },
    {
     "name": "stderr",
     "output_type": "stream",
     "text": [
      "100%|██████████| 537/537 [01:50<00:00,  4.87it/s]\n"
     ]
    },
    {
     "name": "stdout",
     "output_type": "stream",
     "text": [
      "Annotating seq: P1043125_720\n"
     ]
    },
    {
     "name": "stderr",
     "output_type": "stream",
     "text": [
      "100%|██████████| 473/473 [01:37<00:00,  4.86it/s]\n"
     ]
    },
    {
     "name": "stdout",
     "output_type": "stream",
     "text": [
      "Annotating seq: P1043115_720\n"
     ]
    },
    {
     "name": "stderr",
     "output_type": "stream",
     "text": [
      "100%|██████████| 3055/3055 [10:25<00:00,  4.88it/s]\n"
     ]
    },
    {
     "name": "stdout",
     "output_type": "stream",
     "text": [
      "Annotating seq: P1043126_720\n"
     ]
    },
    {
     "name": "stderr",
     "output_type": "stream",
     "text": [
      "100%|██████████| 547/547 [01:52<00:00,  4.88it/s]\n"
     ]
    },
    {
     "name": "stdout",
     "output_type": "stream",
     "text": [
      "Annotating seq: P1042756_720\n"
     ]
    },
    {
     "name": "stderr",
     "output_type": "stream",
     "text": [
      "100%|██████████| 3100/3100 [10:36<00:00,  4.87it/s]\n"
     ]
    },
    {
     "name": "stdout",
     "output_type": "stream",
     "text": [
      "Annotating seq: P1043123_720\n"
     ]
    },
    {
     "name": "stderr",
     "output_type": "stream",
     "text": [
      "100%|██████████| 630/630 [02:09<00:00,  4.85it/s]\n"
     ]
    },
    {
     "name": "stdout",
     "output_type": "stream",
     "text": [
      "Annotating seq: P1043122_720\n"
     ]
    },
    {
     "name": "stderr",
     "output_type": "stream",
     "text": [
      "100%|██████████| 3125/3125 [10:41<00:00,  4.87it/s]\n"
     ]
    },
    {
     "name": "stdout",
     "output_type": "stream",
     "text": [
      "Annotating seq: P1042797_720\n"
     ]
    },
    {
     "name": "stderr",
     "output_type": "stream",
     "text": [
      "100%|██████████| 3145/3145 [10:48<00:00,  4.85it/s]\n"
     ]
    },
    {
     "name": "stdout",
     "output_type": "stream",
     "text": [
      "Annotating seq: P1043134_720\n"
     ]
    },
    {
     "name": "stderr",
     "output_type": "stream",
     "text": [
      "100%|██████████| 635/635 [02:11<00:00,  4.84it/s]\n"
     ]
    },
    {
     "name": "stdout",
     "output_type": "stream",
     "text": [
      "Annotating seq: P1043132_720\n"
     ]
    },
    {
     "name": "stderr",
     "output_type": "stream",
     "text": [
      "100%|██████████| 705/705 [02:25<00:00,  4.84it/s]\n"
     ]
    },
    {
     "name": "stdout",
     "output_type": "stream",
     "text": [
      "Annotating seq: P1042772_720\n"
     ]
    },
    {
     "name": "stderr",
     "output_type": "stream",
     "text": [
      "100%|██████████| 3105/3105 [10:41<00:00,  4.84it/s]\n"
     ]
    },
    {
     "name": "stdout",
     "output_type": "stream",
     "text": [
      "Annotating seq: P1043130_720\n"
     ]
    },
    {
     "name": "stderr",
     "output_type": "stream",
     "text": [
      "100%|██████████| 370/370 [01:16<00:00,  4.83it/s]\n"
     ]
    },
    {
     "name": "stdout",
     "output_type": "stream",
     "text": [
      "Annotating seq: P1042787_720\n"
     ]
    },
    {
     "name": "stderr",
     "output_type": "stream",
     "text": [
      "100%|██████████| 3288/3288 [11:20<00:00,  4.83it/s]\n"
     ]
    },
    {
     "name": "stdout",
     "output_type": "stream",
     "text": [
      "Annotating seq: P1043117_720\n"
     ]
    },
    {
     "name": "stderr",
     "output_type": "stream",
     "text": [
      "100%|██████████| 480/480 [01:39<00:00,  4.82it/s]\n"
     ]
    },
    {
     "name": "stdout",
     "output_type": "stream",
     "text": [
      "Annotating seq: P1042762_720\n"
     ]
    },
    {
     "name": "stderr",
     "output_type": "stream",
     "text": [
      "100%|██████████| 3095/3095 [10:41<00:00,  4.82it/s]\n"
     ]
    },
    {
     "name": "stdout",
     "output_type": "stream",
     "text": [
      "Annotating seq: P1043129_720\n"
     ]
    },
    {
     "name": "stderr",
     "output_type": "stream",
     "text": [
      "100%|██████████| 3095/3095 [10:44<00:00,  4.80it/s]\n"
     ]
    },
    {
     "name": "stdout",
     "output_type": "stream",
     "text": [
      "Annotating seq: P1043131_720\n"
     ]
    },
    {
     "name": "stderr",
     "output_type": "stream",
     "text": [
      "100%|██████████| 670/670 [02:19<00:00,  4.80it/s]\n"
     ]
    },
    {
     "name": "stdout",
     "output_type": "stream",
     "text": [
      "Annotating seq: P1042767_720\n"
     ]
    },
    {
     "name": "stderr",
     "output_type": "stream",
     "text": [
      "100%|██████████| 3230/3230 [11:11<00:00,  4.81it/s]\n"
     ]
    },
    {
     "name": "stdout",
     "output_type": "stream",
     "text": [
      "Annotating seq: P1043133_720\n"
     ]
    },
    {
     "name": "stderr",
     "output_type": "stream",
     "text": [
      "100%|██████████| 705/705 [02:27<00:00,  4.77it/s]\n"
     ]
    },
    {
     "name": "stdout",
     "output_type": "stream",
     "text": [
      "Annotating seq: P1043121_720\n"
     ]
    },
    {
     "name": "stderr",
     "output_type": "stream",
     "text": [
      "100%|██████████| 595/595 [02:03<00:00,  4.82it/s]\n"
     ]
    },
    {
     "name": "stdout",
     "output_type": "stream",
     "text": [
      "Annotating seq: P1043124_720\n"
     ]
    },
    {
     "name": "stderr",
     "output_type": "stream",
     "text": [
      "100%|██████████| 610/610 [02:06<00:00,  4.81it/s]\n"
     ]
    },
    {
     "name": "stdout",
     "output_type": "stream",
     "text": [
      "Annotating seq: P1042793_720\n"
     ]
    },
    {
     "name": "stderr",
     "output_type": "stream",
     "text": [
      "100%|██████████| 3145/3145 [10:53<00:00,  4.81it/s]\n"
     ]
    },
    {
     "name": "stdout",
     "output_type": "stream",
     "text": [
      "Annotating seq: P1042751_720\n"
     ]
    },
    {
     "name": "stderr",
     "output_type": "stream",
     "text": [
      "100%|██████████| 3215/3215 [11:09<00:00,  4.80it/s]\n"
     ]
    },
    {
     "name": "stdout",
     "output_type": "stream",
     "text": [
      "Annotating seq: P1043067_720\n"
     ]
    },
    {
     "name": "stderr",
     "output_type": "stream",
     "text": [
      "100%|██████████| 3285/3285 [11:20<00:00,  4.83it/s]\n"
     ]
    },
    {
     "name": "stdout",
     "output_type": "stream",
     "text": [
      "Annotating seq: P1043079_720\n"
     ]
    },
    {
     "name": "stderr",
     "output_type": "stream",
     "text": [
      "100%|██████████| 588/588 [02:03<00:00,  4.78it/s]\n"
     ]
    },
    {
     "name": "stdout",
     "output_type": "stream",
     "text": [
      "Annotating seq: P1043080_720\n"
     ]
    },
    {
     "name": "stderr",
     "output_type": "stream",
     "text": [
      "100%|██████████| 550/550 [01:54<00:00,  4.78it/s]\n"
     ]
    },
    {
     "name": "stdout",
     "output_type": "stream",
     "text": [
      "Annotating seq: P1043116_720\n"
     ]
    },
    {
     "name": "stderr",
     "output_type": "stream",
     "text": [
      "100%|██████████| 525/525 [01:49<00:00,  4.81it/s]\n"
     ]
    },
    {
     "name": "stdout",
     "output_type": "stream",
     "text": [
      "Annotating seq: P1043081_720\n"
     ]
    },
    {
     "name": "stderr",
     "output_type": "stream",
     "text": [
      "100%|██████████| 600/600 [02:05<00:00,  4.77it/s]\n"
     ]
    },
    {
     "name": "stdout",
     "output_type": "stream",
     "text": [
      "Annotating seq: P1042757_720\n"
     ]
    },
    {
     "name": "stderr",
     "output_type": "stream",
     "text": [
      "100%|██████████| 3650/3650 [12:38<00:00,  4.81it/s]\n"
     ]
    },
    {
     "name": "stdout",
     "output_type": "stream",
     "text": [
      "Annotating seq: P1043127_720\n"
     ]
    },
    {
     "name": "stderr",
     "output_type": "stream",
     "text": [
      "100%|██████████| 470/470 [01:38<00:00,  4.78it/s]\n"
     ]
    },
    {
     "name": "stdout",
     "output_type": "stream",
     "text": [
      "Annotating seq: P1043135_720\n"
     ]
    },
    {
     "name": "stderr",
     "output_type": "stream",
     "text": [
      "100%|██████████| 680/680 [02:21<00:00,  4.79it/s]\n"
     ]
    },
    {
     "name": "stdout",
     "output_type": "stream",
     "text": [
      "Annotating seq: P1043114_720\n"
     ]
    },
    {
     "name": "stderr",
     "output_type": "stream",
     "text": [
      "100%|██████████| 350/350 [01:12<00:00,  4.81it/s]\n"
     ]
    },
    {
     "name": "stdout",
     "output_type": "stream",
     "text": [
      "Annotating seq: P1043068_720\n"
     ]
    },
    {
     "name": "stderr",
     "output_type": "stream",
     "text": [
      "100%|██████████| 3665/3665 [12:44<00:00,  4.79it/s]\n"
     ]
    },
    {
     "name": "stdout",
     "output_type": "stream",
     "text": [
      "Annotating seq: P1042786_720\n"
     ]
    },
    {
     "name": "stderr",
     "output_type": "stream",
     "text": [
      "100%|██████████| 3275/3275 [11:25<00:00,  4.78it/s]\n"
     ]
    },
    {
     "name": "stdout",
     "output_type": "stream",
     "text": [
      "Annotating seq: P1043120_720\n"
     ]
    },
    {
     "name": "stderr",
     "output_type": "stream",
     "text": [
      "100%|██████████| 418/418 [01:26<00:00,  4.81it/s]\n"
     ]
    },
    {
     "name": "stdout",
     "output_type": "stream",
     "text": [
      "Annotating seq: P1043089_720\n"
     ]
    },
    {
     "name": "stderr",
     "output_type": "stream",
     "text": [
      "100%|██████████| 3120/3120 [10:52<00:00,  4.78it/s]\n"
     ]
    }
   ],
   "source": [
    "dir_list = \"./frames/\"\n",
    "model = get_model(\"resnet50_2020-07-20\", max_size=2048, device=\"cuda\")\n",
    "model.eval()\n",
    "\n",
    "# loop through each item in the directory list\n",
    "for seq in os.listdir(dir_list):\n",
    "    print(f\"Annotating seq: {seq}\")\n",
    "    \n",
    "    annots = annotate_sequence(os.path.join(dir_list, seq), model)\n",
    "    with open(f\"{os.path.join(dir_list, seq)}/annotations.json\", \"w\") as file:\n",
    "        json.dump(annots, file)"
   ]
  }
 ],
 "metadata": {
  "kernelspec": {
   "display_name": "Python 3 (ipykernel)",
   "language": "python",
   "name": "python3"
  },
  "language_info": {
   "codemirror_mode": {
    "name": "ipython",
    "version": 3
   },
   "file_extension": ".py",
   "mimetype": "text/x-python",
   "name": "python",
   "nbconvert_exporter": "python",
   "pygments_lexer": "ipython3",
   "version": "3.10.6"
  },
  "papermill": {
   "default_parameters": {},
   "duration": 15910.131195,
   "end_time": "2023-05-06T00:53:57.004410",
   "environment_variables": {},
   "exception": null,
   "input_path": "__notebook__.ipynb",
   "output_path": "__notebook__.ipynb",
   "parameters": {},
   "start_time": "2023-05-05T20:28:46.873215",
   "version": "2.4.0"
  }
 },
 "nbformat": 4,
 "nbformat_minor": 5
}
